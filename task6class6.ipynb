{
 "cells": [
  {
   "cell_type": "code",
   "execution_count": null,
   "id": "59d2ca8a",
   "metadata": {},
   "outputs": [],
   "source": [
    "#.Create a list(friend_names) with your friends names(atleaste 10 names)?\n",
    "print all names with in loop \n",
    "Expected Output: my friend name is \"ravi\"\n",
    "\t\t     my friend name is \"shanker\"\n"
   ]
  },
  {
   "cell_type": "code",
   "execution_count": 1,
   "id": "6d94e3a0",
   "metadata": {},
   "outputs": [
    {
     "name": "stdout",
     "output_type": "stream",
     "text": [
      "my friend name is aslam\n",
      "my friend name is waheed\n",
      "my friend name is anji\n",
      "my friend name is khaleel\n",
      "my friend name is pradeep\n",
      "my friend name is hanuma\n",
      "my friend name is rabbani\n",
      "my friend name is sayyed\n",
      "my friend name is mohsin\n"
     ]
    }
   ],
   "source": [
    "list=[\"aslam\",\"waheed\",\"anji\",\"khaleel\",\"pradeep\",\"hanuma\",\"rabbani\",\"sayyed\",\"mohsin\"]\n",
    "for p in list:\n",
    "    print(\"my friend name is\",p)"
   ]
  },
  {
   "cell_type": "code",
   "execution_count": null,
   "id": "195cee51",
   "metadata": {},
   "outputs": [],
   "source": [
    "#.7. Create a list(family_members) with your family members names(atleaste 10 names)?\n",
    "print all names with in loop \n"
   ]
  },
  {
   "cell_type": "code",
   "execution_count": 2,
   "id": "9656aba7",
   "metadata": {},
   "outputs": [
    {
     "name": "stdout",
     "output_type": "stream",
     "text": [
      "yousuf\n",
      "fathima\n",
      "ayub\n",
      "ayesha\n",
      "liyakhath\n",
      "sardar\n",
      "gouse\n",
      "shabana\n",
      "basith\n",
      "sadath\n",
      "gulzar\n"
     ]
    }
   ],
   "source": [
    "list=[\"yousuf\",\"fathima\",\"ayub\",\"ayesha\",\"liyakhath\",\"sardar\",\n",
    "               \"gouse\",\"shabana\",\"basith\",\"sadath\",\"gulzar\"]\n",
    "for p in list:\n",
    "    print(p)"
   ]
  },
  {
   "cell_type": "code",
   "execution_count": null,
   "id": "9f2e36ff",
   "metadata": {},
   "outputs": [],
   "source": [
    "#.8. Create a list(food_names) with your favorite food names(atleaste 10 names only veg)?\n",
    "print all names with in loop \n"
   ]
  },
  {
   "cell_type": "code",
   "execution_count": 3,
   "id": "b461d4d3",
   "metadata": {},
   "outputs": [
    {
     "name": "stdout",
     "output_type": "stream",
     "text": [
      "aalu\n",
      "tomato\n",
      "gongura\n",
      "totakura\n",
      "pappu\n",
      "bhendi\n",
      "mushroom\n",
      "milmaker\n",
      "donda\n",
      "kukumber\n"
     ]
    }
   ],
   "source": [
    "lst=[\"aalu\",\"tomato\",\"gongura\",\"totakura\",\"pappu\",\"bhendi\",\"mushroom\",\"milmaker\",\n",
    "    \"donda\",\"kukumber\"]\n",
    "for p in lst:\n",
    "    print(p)"
   ]
  },
  {
   "cell_type": "code",
   "execution_count": null,
   "id": "05cda044",
   "metadata": {},
   "outputs": [],
   "source": [
    "#.food_names) with your favorite food names(atleaste 10 names only nonveg)?\n",
    "print all names with in loop \n",
    "\n"
   ]
  },
  {
   "cell_type": "code",
   "execution_count": 12,
   "id": "ad306dd1",
   "metadata": {},
   "outputs": [
    {
     "name": "stdout",
     "output_type": "stream",
     "text": [
      "chiken\n",
      "chillichiken\n",
      "mutton\n",
      "eggs\n",
      "aamlt\n",
      "fish\n",
      "prawns\n",
      "boiled egg\n",
      "kundachiken\n",
      "pulav roti\n"
     ]
    }
   ],
   "source": [
    "lstt=[\"chiken\",\"chillichiken\",\"mutton\",\"eggs\",\"aamlt\",\"fish\",\"prawns\",\"boiled egg\",\"kundachiken\",\"pulav roti\"]\n",
    "for p in lstt:\n",
    "    print(p)\n",
    "                                                                           "
   ]
  },
  {
   "cell_type": "code",
   "execution_count": null,
   "id": "015f9f3c",
   "metadata": {},
   "outputs": [],
   "source": [
    "#.\n",
    "10. Create a set(colour_names) with your colour names(atleaste 10 names)?\n",
    "print all names with in loop \n",
    "\n"
   ]
  },
  {
   "cell_type": "code",
   "execution_count": 20,
   "id": "2e3b49d1",
   "metadata": {},
   "outputs": [
    {
     "name": "stdout",
     "output_type": "stream",
     "text": [
      "red\n",
      "maronn\n",
      "violet\n",
      "black\n",
      "white\n",
      "pink\n",
      "green\n",
      "sky blue\n",
      "blue\n"
     ]
    }
   ],
   "source": [
    "colour_names={\"green\",\"blue\",\"red\",\"sky blue\",\"pink\",\"maronn\",\"white\",\"black\",\"violet\"}\n",
    "for p in colour_names:\n",
    "              print(p)\n",
    "    \n",
    "\n"
   ]
  },
  {
   "cell_type": "code",
   "execution_count": null,
   "id": "28f90f24",
   "metadata": {},
   "outputs": [],
   "source": [
    "#.Create a list(month_names) with your month names(atleaste 10 names)?\n",
    "print all names with in loop \n",
    "\n"
   ]
  },
  {
   "cell_type": "code",
   "execution_count": 21,
   "id": "1637ca3a",
   "metadata": {},
   "outputs": [
    {
     "name": "stdout",
     "output_type": "stream",
     "text": [
      "jan\n",
      "feb\n",
      "mar\n",
      "apr\n",
      "may\n",
      "june\n",
      "july\n",
      "aug\n",
      "sep\n",
      "oct\n",
      "nov\n",
      "dec\n"
     ]
    }
   ],
   "source": [
    "month_names=[\"jan\",\"feb\",\"mar\",\"apr\",\"may\",\"june\",\"july\",\"aug\",\n",
    "     \"sep\",\"oct\",\"nov\",\"dec\"]\n",
    "for p in month_names:\n",
    "    print(p)"
   ]
  },
  {
   "cell_type": "code",
   "execution_count": null,
   "id": "fcb357fe",
   "metadata": {},
   "outputs": [],
   "source": [
    "#. print 9th table (1 to 90)\n"
   ]
  },
  {
   "cell_type": "code",
   "execution_count": 25,
   "id": "f988d559",
   "metadata": {},
   "outputs": [
    {
     "name": "stdout",
     "output_type": "stream",
     "text": [
      "1\n",
      "2\n",
      "3\n",
      "4\n",
      "5\n",
      "6\n",
      "7\n",
      "8\n",
      "9\n",
      "10\n",
      "11\n",
      "12\n",
      "13\n",
      "14\n",
      "15\n",
      "16\n",
      "17\n",
      "18\n",
      "19\n",
      "20\n",
      "21\n",
      "22\n",
      "23\n",
      "24\n",
      "25\n",
      "26\n",
      "27\n",
      "28\n",
      "29\n",
      "30\n",
      "31\n",
      "32\n",
      "33\n",
      "34\n",
      "35\n",
      "36\n",
      "37\n",
      "38\n",
      "39\n",
      "40\n",
      "41\n",
      "42\n",
      "43\n",
      "44\n",
      "45\n",
      "46\n",
      "47\n",
      "48\n",
      "49\n",
      "50\n",
      "51\n",
      "52\n",
      "53\n",
      "54\n",
      "55\n",
      "56\n",
      "57\n",
      "58\n",
      "59\n",
      "60\n",
      "61\n",
      "62\n",
      "63\n",
      "64\n",
      "65\n",
      "66\n",
      "67\n",
      "68\n",
      "69\n",
      "70\n",
      "71\n",
      "72\n",
      "73\n",
      "74\n",
      "75\n",
      "76\n",
      "77\n",
      "78\n",
      "79\n",
      "80\n",
      "81\n",
      "82\n",
      "83\n",
      "84\n",
      "85\n",
      "86\n",
      "87\n",
      "88\n",
      "89\n"
     ]
    }
   ],
   "source": [
    "for p in range(1,90):\n",
    "    print(p)"
   ]
  },
  {
   "cell_type": "code",
   "execution_count": null,
   "id": "a612e054",
   "metadata": {},
   "outputs": [],
   "source": [
    "#second way\n"
   ]
  },
  {
   "cell_type": "code",
   "execution_count": 27,
   "id": "0d8a6355",
   "metadata": {},
   "outputs": [
    {
     "name": "stdout",
     "output_type": "stream",
     "text": [
      "0\n",
      "9\n",
      "18\n",
      "27\n",
      "36\n",
      "45\n",
      "54\n",
      "63\n",
      "72\n",
      "81\n"
     ]
    }
   ],
   "source": [
    "for p in range(0,90,9):\n",
    "    print(p)"
   ]
  },
  {
   "cell_type": "code",
   "execution_count": null,
   "id": "7cd423aa",
   "metadata": {},
   "outputs": [],
   "source": [
    "#.13. print(12th table (1 to 120)"
   ]
  },
  {
   "cell_type": "code",
   "execution_count": 28,
   "id": "601e6779",
   "metadata": {},
   "outputs": [
    {
     "name": "stdout",
     "output_type": "stream",
     "text": [
      "0\n",
      "12\n",
      "24\n",
      "36\n",
      "48\n",
      "60\n",
      "72\n",
      "84\n",
      "96\n",
      "108\n"
     ]
    }
   ],
   "source": [
    "for p in range(0,120,12):\n",
    "    print(p)"
   ]
  },
  {
   "cell_type": "code",
   "execution_count": null,
   "id": "400f7156",
   "metadata": {},
   "outputs": [],
   "source": []
  },
  {
   "cell_type": "code",
   "execution_count": null,
   "id": "57bcfc46",
   "metadata": {},
   "outputs": [],
   "source": []
  },
  {
   "cell_type": "code",
   "execution_count": null,
   "id": "d596a024",
   "metadata": {},
   "outputs": [],
   "source": []
  },
  {
   "cell_type": "code",
   "execution_count": null,
   "id": "053dfbdb",
   "metadata": {},
   "outputs": [],
   "source": []
  }
 ],
 "metadata": {
  "kernelspec": {
   "display_name": "Python 3 (ipykernel)",
   "language": "python",
   "name": "python3"
  },
  "language_info": {
   "codemirror_mode": {
    "name": "ipython",
    "version": 3
   },
   "file_extension": ".py",
   "mimetype": "text/x-python",
   "name": "python",
   "nbconvert_exporter": "python",
   "pygments_lexer": "ipython3",
   "version": "3.9.13"
  }
 },
 "nbformat": 4,
 "nbformat_minor": 5
}
